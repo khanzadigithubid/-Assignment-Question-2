{
  "nbformat": 4,
  "nbformat_minor": 0,
  "metadata": {
    "colab": {
      "provenance": [],
      "toc_visible": true,
      "include_colab_link": true
    },
    "kernelspec": {
      "name": "python3",
      "display_name": "Python 3"
    },
    "language_info": {
      "name": "python"
    }
  },
  "cells": [
    {
      "cell_type": "markdown",
      "metadata": {
        "id": "view-in-github",
        "colab_type": "text"
      },
      "source": [
        "<a href=\"https://colab.research.google.com/github/khanzadigithubid/-Assignment-Question-2/blob/main/Assignment01_py.ipynb\" target=\"_parent\"><img src=\"https://colab.research.google.com/assets/colab-badge.svg\" alt=\"Open In Colab\"/></a>"
      ]
    },
    {
      "cell_type": "markdown",
      "source": [
        "KHANZADI WAZIR ALI\n",
        "\n",
        "00272819"
      ],
      "metadata": {
        "id": "54kZx_PMistY"
      }
    },
    {
      "cell_type": "markdown",
      "source": [
        "ASSIGNMENT 01"
      ],
      "metadata": {
        "id": "0QJgjogMi_sH"
      }
    },
    {
      "cell_type": "markdown",
      "source": [
        "# Python Strings Assignment\n",
        "\n",
        "Part 1: Understanding String Literals\n",
        "\n",
        "1. Create three different strings using each type of quotation:\n",
        "o Single quotes ('example')\n",
        "o Double quotes (\"example\")\n",
        "o Triple quotes (\"\"\"example\"\"\")"
      ],
      "metadata": {
        "id": "z7L53jESFi_W"
      }
    },
    {
      "cell_type": "code",
      "source": [
        "# Single quotes\n",
        "string1 = 'Hello, World!'\n",
        "\n",
        "print(string1)"
      ],
      "metadata": {
        "colab": {
          "base_uri": "https://localhost:8080/"
        },
        "id": "egogpnFQFaYd",
        "outputId": "1edd7de0-f6bb-4985-af1a-9305d211a36b"
      },
      "execution_count": null,
      "outputs": [
        {
          "output_type": "stream",
          "name": "stdout",
          "text": [
            "Hello, World!\n"
          ]
        }
      ]
    },
    {
      "cell_type": "code",
      "source": [
        "#Double quotes\n",
        "string2 = \"I am a Khanzadi WazirAli Memon\"\n",
        "\n",
        "print(string2)"
      ],
      "metadata": {
        "colab": {
          "base_uri": "https://localhost:8080/"
        },
        "id": "VAdvXM0oGwme",
        "outputId": "42b86ee3-101e-463e-b698-0d28dab7c979"
      },
      "execution_count": null,
      "outputs": [
        {
          "output_type": "stream",
          "name": "stdout",
          "text": [
            "I am a Khanzadi WazirAli Memon\n"
          ]
        }
      ]
    },
    {
      "cell_type": "code",
      "source": [
        "#Triple quotes\n",
        "string3 = '''\n",
        "Once upon a time, in a quiet little town, there lived a brilliant young girl\n",
        "named Khanzadi.\n",
        "She was passionate about coding and loved solving complex problems.\n",
        "\n",
        "Every day, she would sit in front of her laptop, learning new techniques and\n",
        "experimenting with creative ideas.\n",
        "\n",
        "One evening, while working on an important project, Khanzadi encountered a\n",
        "stubborn bug.\n",
        "No matter what she tried, the error wouldn’t go away.\n",
        "She attempted everything she could think of, but nothing worked.\n",
        "Frustrated and exhausted, she decided to take a break.\n",
        "\n",
        "Taking a deep breath, she made herself a cup of coffee and paused to think.\n",
        "Then, suddenly, an idea struck her—what if the problem wasn’t in the code\n",
        "itself but in the way she was approaching it?\n",
        "\n",
        "She went back to her screen, carefully analyzing each line, searching for even\n",
        "the tiniest mistake.\n",
        "And there it was—a small, overlooked error.\n",
        "With just one quick fix, the program ran perfectly.\n",
        "\n",
        "That day, Khanzadi learned an important lesson:\n",
        "\"Patience and a fresh perspective can solve even the toughest problems.\"\n",
        "\n",
        "And so, her journey toward becoming a great programmer continued...\n",
        "'''\n",
        "\n",
        "print(string3)"
      ],
      "metadata": {
        "colab": {
          "base_uri": "https://localhost:8080/"
        },
        "id": "20L24AA-HQpm",
        "outputId": "ea6cacfc-3550-4316-ff51-2848af0d2347"
      },
      "execution_count": null,
      "outputs": [
        {
          "output_type": "stream",
          "name": "stdout",
          "text": [
            "\n",
            "Once upon a time, in a quiet little town, there lived a brilliant young girl \n",
            "named Khanzadi.\n",
            "She was passionate about coding and loved solving complex problems.\n",
            "\n",
            "Every day, she would sit in front of her laptop, learning new techniques and \n",
            "experimenting with creative ideas.\n",
            "\n",
            "One evening, while working on an important project, Khanzadi encountered a \n",
            "stubborn bug.\n",
            "No matter what she tried, the error wouldn’t go away.\n",
            "She attempted everything she could think of, but nothing worked.\n",
            "Frustrated and exhausted, she decided to take a break.\n",
            "\n",
            "Taking a deep breath, she made herself a cup of coffee and paused to think.\n",
            "Then, suddenly, an idea struck her—what if the problem wasn’t in the code \n",
            "itself but in the way she was approaching it?\n",
            "\n",
            "She went back to her screen, carefully analyzing each line, searching for even \n",
            "the tiniest mistake.\n",
            "And there it was—a small, overlooked error.\n",
            "With just one quick fix, the program ran perfectly.\n",
            "\n",
            "That day, Khanzadi learned an important lesson: \n",
            "\"Patience and a fresh perspective can solve even the toughest problems.\"\n",
            "\n",
            "And so, her journey toward becoming a great programmer continued...\n",
            "\n"
          ]
        }
      ]
    },
    {
      "cell_type": "markdown",
      "source": [
        "2. Explain in your own words: What is the advantage of each type of quotation?"
      ],
      "metadata": {
        "id": "wp5IGeiaUD2Y"
      }
    },
    {
      "cell_type": "markdown",
      "source": [
        "In Python, there are three types of quotations:\n",
        "\n",
        "Single Quotes (' ')\n",
        "\n",
        "Double Quotes (\" \")\n",
        "\n",
        "Triple Quotes (''' ''' or \"\"\" \"\"\")\n",
        "\n",
        "Each type has its own advantages:\n",
        "\n",
        "1. Single Quotes (' ')\n",
        "\n",
        "Used for short, simple strings.\n",
        "\n",
        "Saves one keystroke compared to double quotes.\n",
        "\n",
        "Best for cases where the string doesn’t contain an apostrophe.\n",
        "\n",
        "Example:"
      ],
      "metadata": {
        "id": "5M1HMUsnXVCK"
      }
    },
    {
      "cell_type": "code",
      "source": [
        "name = 'Khanzadi'\n",
        "print(name)"
      ],
      "metadata": {
        "colab": {
          "base_uri": "https://localhost:8080/"
        },
        "id": "p2WrxHtaXim_",
        "outputId": "0681d7d7-9614-4836-bfb4-dbc7e7681b66"
      },
      "execution_count": null,
      "outputs": [
        {
          "output_type": "stream",
          "name": "stdout",
          "text": [
            "Khanzadi\n"
          ]
        }
      ]
    },
    {
      "cell_type": "markdown",
      "source": [
        "2. Double Quotes (\" \")\n",
        "\n",
        "Works the same as single quotes but allows including apostrophes (') inside the string.\n",
        "\n",
        "Useful when the string contains a single quote."
      ],
      "metadata": {
        "id": "sftiRUrcXnko"
      }
    },
    {
      "cell_type": "code",
      "source": [
        "sentence = \"It's a beautiful day!\"\n",
        "print(sentence)"
      ],
      "metadata": {
        "colab": {
          "base_uri": "https://localhost:8080/"
        },
        "id": "WxgMO4-9XwdG",
        "outputId": "e1b61c98-04ef-46db-caa2-1846580eda70"
      },
      "execution_count": null,
      "outputs": [
        {
          "output_type": "stream",
          "name": "stdout",
          "text": [
            "It's a beautiful day!\n"
          ]
        }
      ]
    },
    {
      "cell_type": "markdown",
      "source": [
        "3. Triple Quotes (''' ''' or \"\"\" \"\"\")\n",
        "\n",
        "Used for multi-line strings.\n",
        "\n",
        "Often used for writing docstrings (comments inside functions).\n",
        "\n",
        "Can contain both single and double quotes without escaping.\n",
        "\n",
        "Example:"
      ],
      "metadata": {
        "id": "nqtAmsonX2Bb"
      }
    },
    {
      "cell_type": "code",
      "source": [
        "message = \"\"\"Hello!\n",
        "This is a multi-line string.\n",
        "Python is fun!\"\"\"\n",
        "print(message)"
      ],
      "metadata": {
        "colab": {
          "base_uri": "https://localhost:8080/"
        },
        "id": "13Tq-COOX_B8",
        "outputId": "168f10c1-dadc-424f-c7b5-1214cf543afe"
      },
      "execution_count": null,
      "outputs": [
        {
          "output_type": "stream",
          "name": "stdout",
          "text": [
            "Hello!\n",
            "This is a multi-line string.\n",
            "Python is fun!\n"
          ]
        }
      ]
    },
    {
      "cell_type": "markdown",
      "source": [
        "Conclusion:\n",
        "\n",
        "Use single (') or double (\") quotes for short strings.\n",
        "\n",
        "Use double quotes (\") if the string has an apostrophe.\n",
        "\n",
        "Use triple quotes (''' or \"\"\") for multi-line strings or docstrings."
      ],
      "metadata": {
        "id": "Ad04d5OmYLHw"
      }
    },
    {
      "cell_type": "markdown",
      "source": [
        "3. Write a string that contains both single and double quotes inside it.\n",
        "\n",
        "Example: She said,\n",
        "\n",
        "\"I'm going to the store.\""
      ],
      "metadata": {
        "id": "C36FPjzCYXCT"
      }
    },
    {
      "cell_type": "code",
      "source": [
        "text = \"\"\"She said, \"I'm going to the Shopping.\"\"\"\"\"\n",
        "print(text)"
      ],
      "metadata": {
        "colab": {
          "base_uri": "https://localhost:8080/"
        },
        "id": "RFqC_v0uY6zk",
        "outputId": "791753f2-15ee-4ba2-a207-193acb9e7a92"
      },
      "execution_count": null,
      "outputs": [
        {
          "output_type": "stream",
          "name": "stdout",
          "text": [
            "She said, \"I'm going to the Shopping.\n"
          ]
        }
      ]
    },
    {
      "cell_type": "markdown",
      "source": [
        "4. Create a multi-line string using triple quotes that describes your favorite hobby."
      ],
      "metadata": {
        "id": "wxl7B9aRZJFl"
      }
    },
    {
      "cell_type": "code",
      "source": [
        "hobby = \"\"\"I love coding and building web applications.\n",
        "It allows me to be creative while solving real-world problems.\n",
        "Exploring new technologies and improving my skills makes it even more exciting!\n",
        "\n",
        "Every project I work on teaches me something new, from debugging errors to\n",
        "optimizing performance.\n",
        "I enjoy experimenting with different programming languages, frameworks,\n",
        "and design patterns.\n",
        "The ability to turn an idea into a fully functional application is truly\n",
        "rewarding.\n",
        "\n",
        "Coding also helps me stay updated with the latest industry trends.\n",
        "Whether it's working on frontend designs or backend logic, every aspect of\n",
        "development keeps me engaged.\n",
        "I love collaborating with other developers, sharing knowledge, and\n",
        "contributing to open-source projects.\n",
        "\n",
        "For me, programming is more than just a hobby—it's a passion that fuels my\n",
        "curiosity and creativity every day!\"\"\"\n",
        "\n",
        "print(hobby)"
      ],
      "metadata": {
        "colab": {
          "base_uri": "https://localhost:8080/"
        },
        "id": "VKcVZCB_ZatE",
        "outputId": "d707adea-ed29-4a93-fd56-528570031d03"
      },
      "execution_count": null,
      "outputs": [
        {
          "output_type": "stream",
          "name": "stdout",
          "text": [
            "I love coding and building web applications.\n",
            "It allows me to be creative while solving real-world problems.\n",
            "Exploring new technologies and improving my skills makes it even more exciting!\n",
            "\n",
            "Every project I work on teaches me something new, from debugging errors to \n",
            "optimizing performance.\n",
            "I enjoy experimenting with different programming languages, frameworks, \n",
            "and design patterns.\n",
            "The ability to turn an idea into a fully functional application is truly \n",
            "rewarding.\n",
            "\n",
            "Coding also helps me stay updated with the latest industry trends.\n",
            "Whether it's working on frontend designs or backend logic, every aspect of \n",
            "development keeps me engaged.\n",
            "I love collaborating with other developers, sharing knowledge, and \n",
            "contributing to open-source projects.\n",
            "\n",
            "For me, programming is more than just a hobby—it's a passion that fuels my \n",
            "curiosity and creativity every day!\n"
          ]
        }
      ]
    },
    {
      "cell_type": "markdown",
      "source": [
        "Part 2: String Methods Practice\n",
        "\n",
        "1. Create a variable full_name with your full name (first and last name). Then write code\n",
        "\n",
        "to:\n",
        "\n",
        "o Print your name in all uppercase letters\n",
        "\n",
        "o Print your name in all lowercase letters\n",
        "\n",
        "o Print your name with the first letter of each name capitalized"
      ],
      "metadata": {
        "id": "EM7d68IjZ0jN"
      }
    },
    {
      "cell_type": "code",
      "source": [
        "# Create a variable with your full name\n",
        "full_name = \"Khanzadi WazirAli Memon\"\n",
        "\n",
        "# Print the name in all uppercase letters\n",
        "print(full_name.upper())\n",
        "\n",
        "# Print the name in all lowercase letters\n",
        "print(full_name.lower())\n",
        "\n",
        "print(full_name.title())"
      ],
      "metadata": {
        "colab": {
          "base_uri": "https://localhost:8080/"
        },
        "id": "nrVIKF66aUua",
        "outputId": "771c5096-c63d-40b6-e3cd-9f0fa1e3b4a2"
      },
      "execution_count": null,
      "outputs": [
        {
          "output_type": "stream",
          "name": "stdout",
          "text": [
            "KHANZADI WAZIRALI MEMON\n",
            "khanzadi wazirali memon\n",
            "Khanzadi Wazirali Memon\n"
          ]
        }
      ]
    },
    {
      "cell_type": "markdown",
      "source": [
        "2. Create a variable messy_text = \" Python programming is fun! \" Then write code\n",
        "\n",
        "to:\n",
        "\n",
        "o Remove all the extra spaces at the beginning and end\n",
        "\n",
        "o Replace \"fun\" with \"amazing\"\n",
        "\n",
        "o Count how many times the letter 'i' appears"
      ],
      "metadata": {
        "id": "xd_-LGjNdpG6"
      }
    },
    {
      "cell_type": "code",
      "source": [
        "# Create a variable with extra spaces\n",
        "message = \" Python programming is fun! \"\n",
        "\n",
        "# Remove extra spaces at the beginning and end\n",
        "text = message.strip()\n",
        "print(text)\n",
        "\n",
        "# Replace \"fun\" with \"amazing\"\n",
        "updated = text.replace(\"fun\", \"amazing\")\n",
        "print(updated)\n",
        "\n",
        "# Count how many times the letter 'i' appears\n",
        "count = text.count('i')\n",
        "\n",
        "print(count)"
      ],
      "metadata": {
        "colab": {
          "base_uri": "https://localhost:8080/"
        },
        "id": "NewcZcR1eEtp",
        "outputId": "b8265382-fdea-426e-bc66-ee2e8e0fa738"
      },
      "execution_count": null,
      "outputs": [
        {
          "output_type": "stream",
          "name": "stdout",
          "text": [
            "Python programming is fun!\n",
            "Python programming is amazing!\n",
            "2\n"
          ]
        }
      ]
    },
    {
      "cell_type": "markdown",
      "source": [
        "3. Create a variable sentence = \"The quick brown fox jumps over the lazy dog\"\n",
        "\n",
        "Then write code to:\n",
        "\n",
        "o Split this sentence into a list of words\n",
        "\n",
        "o Join the words back together with dashes between them\n",
        "\n",
        "o Check if the sentence starts with \"The\"\n",
        "\n",
        "o Find the position of the word \"fox\""
      ],
      "metadata": {
        "id": "SUWuC6A-eWYw"
      }
    },
    {
      "cell_type": "code",
      "source": [
        "# Create the sentence variable\n",
        "sentence = \"The quick brown fox jumps over the lazy dog\"\n",
        "\n",
        "# 1. Split the sentence into a list of words\n",
        "list = sentence.split()\n",
        "print(list)\n",
        "\n",
        "# 2. Join the words back together with dashes between them\n",
        "join= \"-\".join(list)\n",
        "print(join)\n",
        "\n",
        "# 3. Check if the sentence starts with \"The\"\n",
        "starts = sentence.startswith(\"The\")\n",
        "print(starts)\n",
        "\n",
        "# 4. Find the position of the word \"fox\"\n",
        "position = sentence.find(\"fox\")\n",
        "\n",
        "print(position)"
      ],
      "metadata": {
        "colab": {
          "base_uri": "https://localhost:8080/"
        },
        "id": "lSRlgFqpeWAE",
        "outputId": "09e47bc4-72da-426f-80db-6a3cf381e8ee"
      },
      "execution_count": null,
      "outputs": [
        {
          "output_type": "stream",
          "name": "stdout",
          "text": [
            "['The', 'quick', 'brown', 'fox', 'jumps', 'over', 'the', 'lazy', 'dog']\n",
            "The-quick-brown-fox-jumps-over-the-lazy-dog\n",
            "True\n",
            "16\n"
          ]
        }
      ]
    },
    {
      "cell_type": "markdown",
      "source": [
        "Part 3: F-Strings\n",
        "\n",
        "1. Create variables for:\n",
        "\n",
        "o Your name\n",
        "\n",
        "o Your age\n",
        "\n",
        "o Your favorite programming language"
      ],
      "metadata": {
        "id": "ve88ByawfJP_"
      }
    },
    {
      "cell_type": "code",
      "source": [
        "# Creating variables\n",
        "name = \"Khanzadi Wazir Ali Memon\"\n",
        "age = 21\n",
        "favorite_language = \"Python\"\n",
        "\n",
        "print(\"Name:\", name)\n",
        "print(\"Age:\", age)\n",
        "print(\"Favorite Programming Language:\", favorite_language)"
      ],
      "metadata": {
        "colab": {
          "base_uri": "https://localhost:8080/"
        },
        "id": "PjJhDxMafKI7",
        "outputId": "1915017f-ef97-4b41-f1be-085662230ea5"
      },
      "execution_count": null,
      "outputs": [
        {
          "output_type": "stream",
          "name": "stdout",
          "text": [
            "Name: Evrenshah Khan\n",
            "Age: 25\n",
            "Favorite Programming Language: Python\n"
          ]
        }
      ]
    },
    {
      "cell_type": "markdown",
      "source": [
        "Then use f-strings to create these sentences:\n",
        "\n",
        "o \"My name is {your_name} and I am {your_age} years old.\"\n",
        "\n",
        "o \"I enjoy programming in {language}, it's my favorite!\"\n",
        "\n",
        "o Create a math expression inside an f-string: \"In 5 years, I will be {age + 5} years old.\""
      ],
      "metadata": {
        "id": "3A8Lcr8qfbTE"
      }
    },
    {
      "cell_type": "code",
      "source": [
        "# Creating variables\n",
        "name = \"Khanzadi Wazir Ali Memon\"\n",
        "age = 21\n",
        "favorite_language = \"Python\"\n",
        "\n",
        "# Using f-strings to create sentences\n",
        "sentence1 = f\"My name is {name} and I am {age} years old.\"\n",
        "sentence2 = f\"I enjoy programming in {favorite_language}, it's my favorite!\"\n",
        "sentence3 = f\"In 5 years, I will be {age + 5} years old.\"\n",
        "\n",
        "print(sentence1)\n",
        "print(sentence2)\n",
        "print(sentence3)"
      ],
      "metadata": {
        "colab": {
          "base_uri": "https://localhost:8080/"
        },
        "id": "Hy_2THEPfk1h",
        "outputId": "f5499ed7-93cf-498b-e26f-2d2662bd2852"
      },
      "execution_count": null,
      "outputs": [
        {
          "output_type": "stream",
          "name": "stdout",
          "text": [
            "My name is Khanzadi Wazir Ali Memon and I am 21 years old.\n",
            "I enjoy programming in Python, it's my favorite!\n",
            "In 5 years, I will be 26 years old.\n"
          ]
        }
      ]
    },
    {
      "cell_type": "markdown",
      "source": [
        "Part 4: Combining String Methods with F-Strings\n",
        "\n",
        "Create a program that:\n",
        "\n",
        "1. Asks for user input about their first name, last name, and birth year\n",
        "\n",
        "2. Uses string methods to properly capitalize their name\n",
        "\n",
        "3. Uses f-strings to create a profile message: \"Profile: {First Last}, Age: {calculated age},\n",
        "Username: {first initial + last name + birth year}\""
      ],
      "metadata": {
        "id": "-eRgWi_NgIS8"
      }
    },
    {
      "cell_type": "code",
      "source": [
        "# Ask for user input\n",
        "first_name = input(\"Enter your first name: \").strip().capitalize()\n",
        "last_name = input(\"Enter your last name: \").strip().capitalize()\n",
        "birth_year = input(\"Enter your birth year: \").strip()\n",
        "\n",
        "# Calculate age (assuming the current year is 2025)\n",
        "current_year = 2025\n",
        "age = current_year - int(birth_year)\n",
        "\n",
        "# Generate a username (first initial + last name + birth year)\n",
        "username = f\"{first_name[0].lower()}{last_name.lower()}{birth_year}\"\n",
        "\n",
        "# Create the profile message using f-strings\n",
        "profile_message = f\"Profile: {first_name} {last_name}, Age: {age}, Username: {username}\"\n",
        "\n",
        "print(profile_message)"
      ],
      "metadata": {
        "colab": {
          "base_uri": "https://localhost:8080/"
        },
        "id": "wtjgrso6gRzW",
        "outputId": "ca3206b5-dc8b-41c0-f4f1-b5f6f0b4611f"
      },
      "execution_count": null,
      "outputs": [
        {
          "output_type": "stream",
          "name": "stdout",
          "text": [
            "Enter your first name: Khanzadi\n",
            "Enter your last name: Wazir Ali\n",
            "Enter your birth year: 2004\n",
            "Profile: Khanzadi Wazir ali, Age: 21, Username: kwazir ali2004\n"
          ]
        }
      ]
    }
  ]
}